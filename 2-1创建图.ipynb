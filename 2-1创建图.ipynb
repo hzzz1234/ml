{
 "cells": [
  {
   "cell_type": "code",
   "execution_count": 2,
   "metadata": {},
   "outputs": [
    {
     "name": "stderr",
     "output_type": "stream",
     "text": [
      "D:\\ProgramData\\Anaconda3\\lib\\site-packages\\h5py\\__init__.py:36: FutureWarning: Conversion of the second argument of issubdtype from `float` to `np.floating` is deprecated. In future, it will be treated as `np.float64 == np.dtype(float).type`.\n",
      "  from ._conv import register_converters as _register_converters\n"
     ]
    }
   ],
   "source": [
    "import tensorflow as tf"
   ]
  },
  {
   "cell_type": "markdown",
   "metadata": {},
   "source": [
    "### 2-1创建图"
   ]
  },
  {
   "cell_type": "code",
   "execution_count": 3,
   "metadata": {},
   "outputs": [
    {
     "name": "stdout",
     "output_type": "stream",
     "text": [
      "Tensor(\"MatMul:0\", shape=(1, 1), dtype=int32)\n"
     ]
    }
   ],
   "source": [
    "#创建一个向量op\n",
    "m1 = tf.constant([[3,3]])\n",
    "#创建一个向量op\n",
    "m2 = tf.constant([[2],[3]])\n",
    "#创建一个矩阵乘法op,把m1和m2传入\n",
    "product = tf.matmul(m1,m2)\n",
    "print(product)"
   ]
  },
  {
   "cell_type": "code",
   "execution_count": 4,
   "metadata": {},
   "outputs": [
    {
     "name": "stdout",
     "output_type": "stream",
     "text": [
      "[[15]]\n"
     ]
    }
   ],
   "source": [
    "#定义一个会话，启动默认图\n",
    "sess = tf.Session()\n",
    "#调用sess的run方法来执行矩阵乘法op\n",
    "#run(product)触发图中3个op\n",
    "result = sess.run(product)\n",
    "print(result)\n",
    "sess.close()"
   ]
  },
  {
   "cell_type": "code",
   "execution_count": 5,
   "metadata": {},
   "outputs": [
    {
     "name": "stdout",
     "output_type": "stream",
     "text": [
      "[[15]]\n"
     ]
    }
   ],
   "source": [
    "with tf.Session() as sess:\n",
    "    #调用sess的run方法来执行矩阵乘法op\n",
    "    #run(product)触发图中3个op\n",
    "    result = sess.run(product)\n",
    "    print(result)"
   ]
  },
  {
   "cell_type": "markdown",
   "metadata": {},
   "source": [
    "### 2-2变量"
   ]
  },
  {
   "cell_type": "code",
   "execution_count": 6,
   "metadata": {},
   "outputs": [
    {
     "name": "stdout",
     "output_type": "stream",
     "text": [
      "[-2 -1]\n",
      "[4 5]\n"
     ]
    }
   ],
   "source": [
    "x = tf.Variable([1,2])\n",
    "a = tf.constant([3,3])\n",
    "sub = tf.subtract(x,a)\n",
    "add = tf.add(x,a)\n",
    "\n",
    "#变量初始化操作\n",
    "init = tf.global_variables_initializer()\n",
    "\n",
    "with tf.Session() as sess:\n",
    "    sess.run(init)\n",
    "    print(sess.run(sub))\n",
    "    print(sess.run(add))"
   ]
  },
  {
   "cell_type": "code",
   "execution_count": 7,
   "metadata": {},
   "outputs": [
    {
     "name": "stdout",
     "output_type": "stream",
     "text": [
      "0\n",
      "1\n",
      "2\n",
      "3\n",
      "4\n",
      "5\n"
     ]
    }
   ],
   "source": [
    "#创建一个变量初始化为0\n",
    "state = tf.Variable(0,name=\"counter\")\n",
    "\n",
    "#创建一个op,作用是使state加1\n",
    "new_value = tf.add(state,1)\n",
    "update = tf.assign(state,new_value)\n",
    "\n",
    "init = tf.global_variables_initializer()\n",
    "\n",
    "with tf.Session() as sess:\n",
    "    sess.run(init)\n",
    "    print(sess.run(state))\n",
    "    for _ in range(5):\n",
    "        sess.run(update)\n",
    "        print(sess.run(state))\n",
    "    "
   ]
  },
  {
   "cell_type": "markdown",
   "metadata": {},
   "source": [
    "### 2-3 Fetch and Feed"
   ]
  },
  {
   "cell_type": "code",
   "execution_count": 8,
   "metadata": {},
   "outputs": [
    {
     "name": "stdout",
     "output_type": "stream",
     "text": [
      "[21.0, 7.0]\n"
     ]
    }
   ],
   "source": [
    "#Fetch\n",
    "input1 = tf.constant(3.0)\n",
    "input2 = tf.constant(2.0)\n",
    "input3 = tf.constant(5.0)\n",
    "\n",
    "add = tf.add(input2,input3)\n",
    "mul = tf.multiply(input1,add)\n",
    "\n",
    "with tf.Session() as sess:\n",
    "    result = sess.run([mul,add])\n",
    "    print(result)"
   ]
  },
  {
   "cell_type": "code",
   "execution_count": 9,
   "metadata": {},
   "outputs": [
    {
     "name": "stdout",
     "output_type": "stream",
     "text": [
      "[14.]\n"
     ]
    }
   ],
   "source": [
    "#Feed\n",
    "input4 = tf.placeholder(tf.float32)\n",
    "input5 = tf.placeholder(tf.float32)\n",
    "out = tf.multiply(input4,input5)\n",
    "\n",
    "with tf.Session() as sess:\n",
    "    print(sess.run(out,feed_dict={input4:[7.0],input5:[2.]}))\n"
   ]
  },
  {
   "cell_type": "markdown",
   "metadata": {},
   "source": [
    "### 2-4 简单示例"
   ]
  },
  {
   "cell_type": "code",
   "execution_count": 10,
   "metadata": {},
   "outputs": [],
   "source": [
    "import numpy as np"
   ]
  },
  {
   "cell_type": "code",
   "execution_count": 11,
   "metadata": {},
   "outputs": [],
   "source": [
    "import matplotlib.pyplot as plt"
   ]
  },
  {
   "cell_type": "code",
   "execution_count": 12,
   "metadata": {},
   "outputs": [
    {
     "data": {
      "text/plain": [
       "[<matplotlib.lines.Line2D at 0x2692282d2b0>]"
      ]
     },
     "execution_count": 12,
     "metadata": {},
     "output_type": "execute_result"
    },
    {
     "data": {
      "image/png": "[encoded data removed]",
      "text/plain": [
       "<Figure size 432x288 with 1 Axes>"
      ]
     },
     "metadata": {},
     "output_type": "display_data"
    }
   ],
   "source": [
    "#使用numpy生成10个随机点\n",
    "x_data = np.random.rand(10)\n",
    "y_data = x_data * 0.1 + 0.2 \n",
    "\n",
    "import matplotlib.pyplot as plt\n",
    "plt.plot(x_data,y_data)"
   ]
  },
  {
   "cell_type": "code",
   "execution_count": 13,
   "metadata": {},
   "outputs": [
    {
     "name": "stdout",
     "output_type": "stream",
     "text": [
      "[-1.9431031, 6.0999713]\n",
      "[-1.9964045, 1.3390149]\n",
      "[-0.98451895, 0.7892373]\n",
      "[-0.4610466, 0.504826]\n",
      "[-0.19024232, 0.35769352]\n",
      "[-0.05014902, 0.28157848]\n",
      "[0.02232447, 0.24220242]\n",
      "[0.05981667, 0.22183228]\n",
      "[0.07921224, 0.21129434]\n",
      "[0.08924601, 0.20584282]\n",
      "[0.09443672, 0.20302263]\n",
      "final: [0.09443672, 0.20302263]\n"
     ]
    }
   ],
   "source": [
    "#构建一个线性模型\n",
    "b = tf.Variable(10.0)\n",
    "k = tf.Variable(0.)\n",
    "x = tf.placeholder(tf.float32,shape=(10,))\n",
    "real_y = tf.placeholder(tf.float32,shape=(10,))\n",
    "pred_y = k * x + b \n",
    "\n",
    "#二次代价函数\n",
    "loss = tf.reduce_mean(tf.square(real_y-pred_y))\n",
    "\n",
    "#定义一个梯度下降法来进行训练的优化器\n",
    "optimizer = tf.train.GradientDescentOptimizer(0.2)\n",
    "#最小化代价函数\n",
    "train_op = optimizer.minimize(loss)\n",
    "\n",
    "#初始化变量\n",
    "init = tf.global_variables_initializer()\n",
    "\n",
    "with tf.Session() as sess:\n",
    "    sess.run(init)\n",
    "    for step in range(201):\n",
    "        sess.run(train_op,feed_dict={x:x_data,real_y:y_data})\n",
    "        if(step % 20 == 0):\n",
    "            print(sess.run([k,b]))\n",
    "    print(\"final:\",sess.run([k,b]))"
   ]
  },
  {
   "cell_type": "code",
   "execution_count": null,
   "metadata": {},
   "outputs": [],
   "source": []
  },
  {
   "cell_type": "markdown",
   "metadata": {},
   "source": [
    "### 3-1 线性回归"
   ]
  },
  {
   "cell_type": "code",
   "execution_count": 14,
   "metadata": {},
   "outputs": [
    {
     "data": {
      "text/plain": [
       "[<matplotlib.lines.Line2D at 0x269228ddf98>]"
      ]
     },
     "execution_count": 14,
     "metadata": {},
     "output_type": "execute_result"
    },
    {
     "data": {
      "image/png": "[encoded data removed]",
      "text/plain": [
       "<Figure size 432x288 with 1 Axes>"
      ]
     },
     "metadata": {},
     "output_type": "display_data"
    }
   ],
   "source": [
    "#使用numpy生成1000个随机点\n",
    "x_data1 = np.linspace(-0.5,0.5,200)[:np.newaxis]\n",
    "noise = np.random.normal(0,0.02,x_data1.shape)\n",
    "y_data1 = np.square(x_data1) + noise\n",
    "\n",
    "plt.plot(x_data1,y_data1)"
   ]
  },
  {
   "cell_type": "code",
   "execution_count": 15,
   "metadata": {},
   "outputs": [
    {
     "name": "stdout",
     "output_type": "stream",
     "text": [
      "0.40884987\n",
      "0.003034777\n",
      "0.0014639577\n",
      "0.0008620977\n",
      "0.0006462585\n",
      "0.0005713143\n",
      "0.000543901\n",
      "0.0005318613\n",
      "0.0005248524\n",
      "0.0005196649\n"
     ]
    },
    {
     "data": {
      "image/png": "[encoded data removed]",
      "text/plain": [
       "<Figure size 432x288 with 1 Axes>"
      ]
     },
     "metadata": {},
     "output_type": "display_data"
    }
   ],
   "source": [
    "#定义两个placeholder\n",
    "x_31 = tf.placeholder(tf.float32,shape=[None,1])\n",
    "y_31 = tf.placeholder(tf.float32,shape=[None,1])\n",
    "\n",
    "#定义神经网络中间层\n",
    "Weights_L1 = tf.Variable(tf.random.normal([1,10]))\n",
    "biases_L1 = tf.Variable(tf.zeros([1,10]))\n",
    "Wx_plus_b_L1 = tf.matmul(x_31,Weights_L1) + biases_L1\n",
    "#激活函数\n",
    "L1 = tf.nn.tanh(Wx_plus_b_L1)\n",
    "\n",
    "#定义神经网络输出层\n",
    "Weights_L2 = tf.Variable(tf.random.normal([10,1]))\n",
    "biases_L2 = tf.Variable(tf.zeros([1,1]))\n",
    "Wx_plus_b_L2 = tf.matmul(L1,Weights_L2) + biases_L2\n",
    "prediction = tf.nn.tanh(Wx_plus_b_L2)\n",
    "\n",
    "#二次代价函数\n",
    "loss = tf.reduce_mean(tf.square(y_31-prediction))\n",
    "#使用梯度下降训练\n",
    "train_step = tf.train.GradientDescentOptimizer(0.1).minimize(loss)\n",
    "\n",
    "#初始化变量\n",
    "init = tf.global_variables_initializer()\n",
    "\n",
    "with tf.Session() as sess:\n",
    "    sess.run(init)\n",
    "    for step in range(2000):\n",
    "        _,loss_value = sess.run([train_step,loss],feed_dict={x_31:x_data1.reshape(-1,1),y_31:y_data1.reshape(-1,1)})\n",
    "        if step%200 == 0:\n",
    "            print(loss_value)\n",
    "    #获得预测值\n",
    "    prediction_value = sess.run(prediction,feed_dict={x_31:x_data1.reshape(-1,1)})\n",
    "    \n",
    "    #画图\n",
    "    plt.figure()\n",
    "    plt.scatter(x_data1,y_data1)\n",
    "    plt.plot(x_data1,prediction_value,'r-',lw=5)\n",
    "    plt.show()"
   ]
  },
  {
   "cell_type": "code",
   "execution_count": 16,
   "metadata": {},
   "outputs": [
    {
     "data": {
      "text/plain": [
       "(200, 1)"
      ]
     },
     "execution_count": 16,
     "metadata": {},
     "output_type": "execute_result"
    }
   ],
   "source": [
    "x_data1.reshape(-1,1).shape"
   ]
  },
  {
   "cell_type": "markdown",
   "metadata": {},
   "source": [
    "### 3-3 MNIST demo"
   ]
  },
  {
   "cell_type": "code",
   "execution_count": 17,
   "metadata": {},
   "outputs": [],
   "source": [
    "from tensorflow.examples.tutorials.mnist import input_data"
   ]
  },
  {
   "cell_type": "code",
   "execution_count": 18,
   "metadata": {},
   "outputs": [
    {
     "name": "stdout",
     "output_type": "stream",
     "text": [
      "WARNING:tensorflow:From <ipython-input-18-b3b8835fef66>:1: read_data_sets (from tensorflow.contrib.learn.python.learn.datasets.mnist) is deprecated and will be removed in a future version.\n",
      "Instructions for updating:\n",
      "Please use alternatives such as official/mnist/dataset.py from tensorflow/models.\n",
      "WARNING:tensorflow:From D:\\ProgramData\\Anaconda3\\lib\\site-packages\\tensorflow_core\\contrib\\learn\\python\\learn\\datasets\\mnist.py:260: maybe_download (from tensorflow.contrib.learn.python.learn.datasets.base) is deprecated and will be removed in a future version.\n",
      "Instructions for updating:\n",
      "Please write your own downloading logic.\n",
      "WARNING:tensorflow:From D:\\ProgramData\\Anaconda3\\lib\\site-packages\\tensorflow_core\\contrib\\learn\\python\\learn\\datasets\\base.py:252: _internal_retry.<locals>.wrap.<locals>.wrapped_fn (from tensorflow.contrib.learn.python.learn.datasets.base) is deprecated and will be removed in a future version.\n",
      "Instructions for updating:\n",
      "Please use urllib or similar directly.\n",
      "Successfully downloaded train-images-idx3-ubyte.gz 9912422 bytes.\n",
      "WARNING:tensorflow:From D:\\ProgramData\\Anaconda3\\lib\\site-packages\\tensorflow_core\\contrib\\learn\\python\\learn\\datasets\\mnist.py:262: extract_images (from tensorflow.contrib.learn.python.learn.datasets.mnist) is deprecated and will be removed in a future version.\n",
      "Instructions for updating:\n",
      "Please use tf.data to implement this functionality.\n",
      "Extracting MNIST_data\\train-images-idx3-ubyte.gz\n",
      "Successfully downloaded train-labels-idx1-ubyte.gz 28881 bytes.\n",
      "WARNING:tensorflow:From D:\\ProgramData\\Anaconda3\\lib\\site-packages\\tensorflow_core\\contrib\\learn\\python\\learn\\datasets\\mnist.py:267: extract_labels (from tensorflow.contrib.learn.python.learn.datasets.mnist) is deprecated and will be removed in a future version.\n",
      "Instructions for updating:\n",
      "Please use tf.data to implement this functionality.\n",
      "Extracting MNIST_data\\train-labels-idx1-ubyte.gz\n",
      "WARNING:tensorflow:From D:\\ProgramData\\Anaconda3\\lib\\site-packages\\tensorflow_core\\contrib\\learn\\python\\learn\\datasets\\mnist.py:110: dense_to_one_hot (from tensorflow.contrib.learn.python.learn.datasets.mnist) is deprecated and will be removed in a future version.\n",
      "Instructions for updating:\n",
      "Please use tf.one_hot on tensors.\n",
      "Successfully downloaded t10k-images-idx3-ubyte.gz 1648877 bytes.\n",
      "Extracting MNIST_data\\t10k-images-idx3-ubyte.gz\n",
      "Successfully downloaded t10k-labels-idx1-ubyte.gz 4542 bytes.\n",
      "Extracting MNIST_data\\t10k-labels-idx1-ubyte.gz\n",
      "WARNING:tensorflow:From D:\\ProgramData\\Anaconda3\\lib\\site-packages\\tensorflow_core\\contrib\\learn\\python\\learn\\datasets\\mnist.py:290: DataSet.__init__ (from tensorflow.contrib.learn.python.learn.datasets.mnist) is deprecated and will be removed in a future version.\n",
      "Instructions for updating:\n",
      "Please use alternatives such as official/mnist/dataset.py from tensorflow/models.\n"
     ]
    }
   ],
   "source": [
    "mnist = input_data.read_data_sets('MNIST_data',one_hot=True)"
   ]
  },
  {
   "cell_type": "code",
   "execution_count": 37,
   "metadata": {},
   "outputs": [
    {
     "data": {
      "image/png": "[encoded data removed]",
      "text/plain": [
       "<Figure size 432x288 with 10 Axes>"
      ]
     },
     "metadata": {},
     "output_type": "display_data"
    }
   ],
   "source": [
    "plt.figure\n",
    "for i in range(10):\n",
    "    plt.subplot(2,5,(i+1))\n",
    "    plt.imshow(mnist.train.images[i].reshape(28,28))"
   ]
  },
  {
   "cell_type": "code",
   "execution_count": 53,
   "metadata": {},
   "outputs": [
    {
     "name": "stdout",
     "output_type": "stream",
     "text": [
      "Iter 0 ,valid Accuracy: 0.8286\n",
      "Iter 1 ,valid Accuracy: 0.8662\n",
      "Iter 2 ,valid Accuracy: 0.8786\n",
      "Iter 3 ,valid Accuracy: 0.8874\n",
      "Iter 4 ,valid Accuracy: 0.8922\n",
      "Iter 5 ,valid Accuracy: 0.896\n",
      "Iter 6 ,valid Accuracy: 0.8996\n",
      "Iter 7 ,valid Accuracy: 0.9006\n",
      "Iter 8 ,valid Accuracy: 0.9022\n",
      "Iter 9 ,valid Accuracy: 0.905\n",
      "Iter 10 ,valid Accuracy: 0.9068\n",
      "Iter 11 ,valid Accuracy: 0.9078\n",
      "Iter 12 ,valid Accuracy: 0.9084\n",
      "Iter 13 ,valid Accuracy: 0.9098\n",
      "Iter 14 ,valid Accuracy: 0.9106\n",
      "Iter 15 ,valid Accuracy: 0.912\n",
      "Iter 16 ,valid Accuracy: 0.9132\n",
      "Iter 17 ,valid Accuracy: 0.9138\n",
      "Iter 18 ,valid Accuracy: 0.914\n",
      "Iter 19 ,valid Accuracy: 0.9142\n",
      "Iter 20 ,valid Accuracy: 0.9158\n"
     ]
    }
   ],
   "source": [
    "batch_size = 100\n",
    "\n",
    "n_batch = mnist.train.num_examples // batch_size\n",
    "\n",
    "#定义2个placeholder\n",
    "mnist_x = tf.placeholder(tf.float32,[None,784])\n",
    "mnist_y = tf.placeholder(tf.float32,[None,10])\n",
    "\n",
    "#c创建一个简单神经网络\n",
    "v = tf.Variable(tf.zeros([784,10]))\n",
    "b = tf.Variable(tf.zeros([10]))\n",
    "mnist_prediction = tf.nn.softmax(tf.matmul(mnist_x,v)+b)\n",
    "\n",
    "#二次代价函数\n",
    "loss = tf.reduce_mean(tf.square(mnist_y-mnist_prediction))\n",
    "#使用梯度下降法\n",
    "mnist_train_step = tf.train.GradientDescentOptimizer(0.2).minimize(loss)\n",
    "\n",
    "#初始化变量\n",
    "init = tf.global_variables_initializer()\n",
    "\n",
    "#所在位置比较\n",
    "mnist_correct_prediction = tf.equal(tf.argmax(mnist_y,1),tf.argmax(mnist_prediction,1))\n",
    "#求准确率\n",
    "accuracy = tf.reduce_mean(tf.cast(mnist_correct_prediction,tf.float32)) #tf.cast布尔值转换为浮点型\n",
    "\n",
    "with tf.Session() as sess:\n",
    "    sess.run(init)\n",
    "    for epoch in range(21):\n",
    "        for batch in range(n_batch):\n",
    "            batch_xs, batch_ys = mnist.train.next_batch(batch_size) #获取下一个100\n",
    "            sess.run(mnist_train_step,feed_dict={mnist_x:batch_xs,mnist_y:batch_ys})\n",
    "        \n",
    "        acc = sess.run(accuracy,feed_dict={mnist_x:mnist.validation.images,mnist_y:mnist.validation.labels})\n",
    "        print(\"Iter\",epoch,\",valid Accuracy:\",acc)"
   ]
  },
  {
   "cell_type": "code",
   "execution_count": 56,
   "metadata": {},
   "outputs": [],
   "source": [
    "#f.nn.sigmoid_cross_entropy_with_logits()来表示跟sigmiod搭配使用的交叉熵\n",
    "#f.nn.softmax_cross_entropy_with_logits()来表示跟softmax来搭配使用的交叉熵"
   ]
  },
  {
   "cell_type": "markdown",
   "metadata": {},
   "source": [
    "### 4-1 平方损失和交叉熵损失区别\n",
    "\n",
    "C表示代价函数，x表示样本，y表示实际值，a表示输出值，n表示样本总数\n",
    "$a=σ(z),z=\\sum{W_j*x_j}+b$,sigmoid的导数为$σ^`(z) = σ(z)(1-σ(z))$\n",
    "\n",
    "1.损失函数为平方损失计算梯度函数为:\n",
    "\n",
    "$C=\\frac{(y-a)^2}{2}$\n",
    "\n",
    "1.1.$ δ(C)/δ(ω) = \\frac{1}{n}\\sum{x}(σ(z) - y) σ^`(z)$\n",
    "\n",
    "1.2.$ δ(C)/δ(b) = \\frac{1}{n}\\sum(σ(z) - y) σ^`(z)$\n",
    "\n",
    "其中梯度和激活函数的导数成正比，激活函数导数越大调整越快，如果激活函数为sigmoid函数则在2头位置收敛会变得很慢，一般优化的方式是将初始化方式变为正太分布方式，或是不使用sigmoid激活函数改为使用relu的方式\n",
    "\n",
    "2.损失函数为交叉熵损失计算梯度函数为:\n",
    "\n",
    "$C=-\\frac{1}{n}\\sum{y\\ln{a} + (1-y)\\ln(1-a)}$\n",
    "\n",
    "1.1.$ δ(C)/δ(ω) = \\frac{1}{n}\\sum{x(σ(z) - y)} $\n",
    "\n",
    "1.2.$ δ(C)/δ(b) = \\frac{1}{n}\\sum{(σ(z) - y)}$\n",
    "\n",
    "调整与$σ^`(z)$无关,梯度公式中$σ(z) - y$表示的误差值，当误差越大梯度就越大，训练就越快\n",
    "\n",
    "sigmoid的导数为$σ^`(z) = σ(z)(1-σ(z))$"
   ]
  },
  {
   "cell_type": "code",
   "execution_count": 55,
   "metadata": {},
   "outputs": [
    {
     "name": "stdout",
     "output_type": "stream",
     "text": [
      "Iter 0 ,valid Accuracy: 0.8252\n",
      "Iter 1 ,valid Accuracy: 0.8932\n",
      "Iter 2 ,valid Accuracy: 0.9028\n",
      "Iter 3 ,valid Accuracy: 0.9066\n",
      "Iter 4 ,valid Accuracy: 0.909\n",
      "Iter 5 ,valid Accuracy: 0.91\n",
      "Iter 6 ,valid Accuracy: 0.9136\n",
      "Iter 7 ,valid Accuracy: 0.9144\n",
      "Iter 8 ,valid Accuracy: 0.9174\n",
      "Iter 9 ,valid Accuracy: 0.9168\n",
      "Iter 10 ,valid Accuracy: 0.9178\n",
      "Iter 11 ,valid Accuracy: 0.9186\n",
      "Iter 12 ,valid Accuracy: 0.919\n",
      "Iter 13 ,valid Accuracy: 0.9192\n",
      "Iter 14 ,valid Accuracy: 0.9194\n",
      "Iter 15 ,valid Accuracy: 0.9202\n",
      "Iter 16 ,valid Accuracy: 0.9212\n",
      "Iter 17 ,valid Accuracy: 0.9218\n",
      "Iter 18 ,valid Accuracy: 0.9222\n",
      "Iter 19 ,valid Accuracy: 0.9232\n",
      "Iter 20 ,valid Accuracy: 0.9226\n"
     ]
    }
   ],
   "source": [
    "#交叉熵对比\n",
    "\n",
    "\n",
    "#c创建一个简单神经网络\n",
    "v2 = tf.Variable(tf.zeros([784,10]))\n",
    "b2 = tf.Variable(tf.zeros([10]))\n",
    "mnist_prediction2 = tf.nn.softmax(tf.matmul(mnist_x,v2)+b2)\n",
    "\n",
    "#交叉熵\n",
    "loss2 = tf.reduce_mean(tf.nn.softmax_cross_entropy_with_logits_v2(labels=mnist_y,logits=mnist_prediction2))\n",
    "#使用梯度下降法\n",
    "mnist_train_step2 = tf.train.GradientDescentOptimizer(0.2).minimize(loss2)\n",
    "\n",
    "#初始化变量\n",
    "init2 = tf.global_variables_initializer()\n",
    "\n",
    "#所在位置比较\n",
    "mnist_correct_prediction2 = tf.equal(tf.argmax(mnist_y,1),tf.argmax(mnist_prediction2,1))\n",
    "#求准确率\n",
    "accuracy2 = tf.reduce_mean(tf.cast(mnist_correct_prediction2,tf.float32)) #tf.cast布尔值转换为浮点型\n",
    "\n",
    "with tf.Session() as sess:\n",
    "    sess.run(init2)\n",
    "    for epoch in range(21):\n",
    "        for batch in range(n_batch):\n",
    "            batch_xs, batch_ys = mnist.train.next_batch(batch_size) #获取下一个100\n",
    "            sess.run(mnist_train_step2,feed_dict={mnist_x:batch_xs,mnist_y:batch_ys})\n",
    "        \n",
    "        acc2 = sess.run(accuracy2,feed_dict={mnist_x:mnist.validation.images,mnist_y:mnist.validation.labels})\n",
    "        print(\"Iter\",epoch,\",valid Accuracy:\",acc2)"
   ]
  },
  {
   "cell_type": "markdown",
   "metadata": {},
   "source": [
    "### 4-2 过拟合和欠拟合\n",
    "<img src='./过欠拟合.png'><br>\n",
    "解决方法:<br>\n",
    "1.增加数据集<br>\n",
    "2.正则化方法<br>\n",
    "3.Dropout"
   ]
  },
  {
   "cell_type": "code",
   "execution_count": 62,
   "metadata": {},
   "outputs": [
    {
     "name": "stdout",
     "output_type": "stream",
     "text": [
      "Iter 0 ,valid Accuracy: 0.9548 ,train Accuracy： 0.9588364\n",
      "Iter 1 ,valid Accuracy: 0.9604 ,train Accuracy： 0.9739818\n",
      "Iter 2 ,valid Accuracy: 0.9622 ,train Accuracy： 0.9803636\n",
      "Iter 3 ,valid Accuracy: 0.9692 ,train Accuracy： 0.9859273\n",
      "Iter 4 ,valid Accuracy: 0.9696 ,train Accuracy： 0.98832726\n",
      "Iter 5 ,valid Accuracy: 0.9704 ,train Accuracy： 0.98981816\n",
      "Iter 6 ,valid Accuracy: 0.9732 ,train Accuracy： 0.9906727\n",
      "Iter 7 ,valid Accuracy: 0.9732 ,train Accuracy： 0.9914182\n",
      "Iter 8 ,valid Accuracy: 0.9738 ,train Accuracy： 0.99194545\n",
      "Iter 9 ,valid Accuracy: 0.9736 ,train Accuracy： 0.99241817\n"
     ]
    },
    {
     "ename": "KeyboardInterrupt",
     "evalue": "",
     "output_type": "error",
     "traceback": [
      "\u001b[1;31m---------------------------------------------------------------------------\u001b[0m",
      "\u001b[1;31mKeyboardInterrupt\u001b[0m                         Traceback (most recent call last)",
      "\u001b[1;32m<ipython-input-62-36e574b52668>\u001b[0m in \u001b[0;36m<module>\u001b[1;34m()\u001b[0m\n\u001b[0;32m     46\u001b[0m \u001b[1;33m\u001b[0m\u001b[0m\n\u001b[0;32m     47\u001b[0m         \u001b[0mvalid_acc3\u001b[0m \u001b[1;33m=\u001b[0m \u001b[0msess\u001b[0m\u001b[1;33m.\u001b[0m\u001b[0mrun\u001b[0m\u001b[1;33m(\u001b[0m\u001b[0maccuracy3\u001b[0m\u001b[1;33m,\u001b[0m\u001b[0mfeed_dict\u001b[0m\u001b[1;33m=\u001b[0m\u001b[1;33m{\u001b[0m\u001b[0mmnist_x\u001b[0m\u001b[1;33m:\u001b[0m\u001b[0mmnist\u001b[0m\u001b[1;33m.\u001b[0m\u001b[0mvalidation\u001b[0m\u001b[1;33m.\u001b[0m\u001b[0mimages\u001b[0m\u001b[1;33m,\u001b[0m\u001b[0mmnist_y\u001b[0m\u001b[1;33m:\u001b[0m\u001b[0mmnist\u001b[0m\u001b[1;33m.\u001b[0m\u001b[0mvalidation\u001b[0m\u001b[1;33m.\u001b[0m\u001b[0mlabels\u001b[0m\u001b[1;33m,\u001b[0m\u001b[0mkeep_prob\u001b[0m\u001b[1;33m:\u001b[0m\u001b[1;36m1.0\u001b[0m\u001b[1;33m}\u001b[0m\u001b[1;33m)\u001b[0m\u001b[1;33m\u001b[0m\u001b[0m\n\u001b[1;32m---> 48\u001b[1;33m         \u001b[0mtrain_acc3\u001b[0m \u001b[1;33m=\u001b[0m \u001b[0msess\u001b[0m\u001b[1;33m.\u001b[0m\u001b[0mrun\u001b[0m\u001b[1;33m(\u001b[0m\u001b[0maccuracy3\u001b[0m\u001b[1;33m,\u001b[0m\u001b[0mfeed_dict\u001b[0m\u001b[1;33m=\u001b[0m\u001b[1;33m{\u001b[0m\u001b[0mmnist_x\u001b[0m\u001b[1;33m:\u001b[0m\u001b[0mmnist\u001b[0m\u001b[1;33m.\u001b[0m\u001b[0mtrain\u001b[0m\u001b[1;33m.\u001b[0m\u001b[0mimages\u001b[0m\u001b[1;33m,\u001b[0m\u001b[0mmnist_y\u001b[0m\u001b[1;33m:\u001b[0m\u001b[0mmnist\u001b[0m\u001b[1;33m.\u001b[0m\u001b[0mtrain\u001b[0m\u001b[1;33m.\u001b[0m\u001b[0mlabels\u001b[0m\u001b[1;33m,\u001b[0m\u001b[0mkeep_prob\u001b[0m\u001b[1;33m:\u001b[0m\u001b[1;36m1.0\u001b[0m\u001b[1;33m}\u001b[0m\u001b[1;33m)\u001b[0m\u001b[1;33m\u001b[0m\u001b[0m\n\u001b[0m\u001b[0;32m     49\u001b[0m \u001b[1;33m\u001b[0m\u001b[0m\n\u001b[0;32m     50\u001b[0m         \u001b[0mprint\u001b[0m\u001b[1;33m(\u001b[0m\u001b[1;34m\"Iter\"\u001b[0m\u001b[1;33m,\u001b[0m\u001b[0mepoch\u001b[0m\u001b[1;33m,\u001b[0m\u001b[1;34m\",valid Accuracy:\"\u001b[0m\u001b[1;33m,\u001b[0m\u001b[0mvalid_acc3\u001b[0m\u001b[1;33m,\u001b[0m\u001b[1;34m\",train Accuracy：\"\u001b[0m\u001b[1;33m,\u001b[0m\u001b[0mtrain_acc3\u001b[0m\u001b[1;33m)\u001b[0m\u001b[1;33m\u001b[0m\u001b[0m\n",
      "\u001b[1;32mD:\\ProgramData\\Anaconda3\\lib\\site-packages\\tensorflow_core\\python\\client\\session.py\u001b[0m in \u001b[0;36mrun\u001b[1;34m(self, fetches, feed_dict, options, run_metadata)\u001b[0m\n\u001b[0;32m    954\u001b[0m     \u001b[1;32mtry\u001b[0m\u001b[1;33m:\u001b[0m\u001b[1;33m\u001b[0m\u001b[0m\n\u001b[0;32m    955\u001b[0m       result = self._run(None, fetches, feed_dict, options_ptr,\n\u001b[1;32m--> 956\u001b[1;33m                          run_metadata_ptr)\n\u001b[0m\u001b[0;32m    957\u001b[0m       \u001b[1;32mif\u001b[0m \u001b[0mrun_metadata\u001b[0m\u001b[1;33m:\u001b[0m\u001b[1;33m\u001b[0m\u001b[0m\n\u001b[0;32m    958\u001b[0m         \u001b[0mproto_data\u001b[0m \u001b[1;33m=\u001b[0m \u001b[0mtf_session\u001b[0m\u001b[1;33m.\u001b[0m\u001b[0mTF_GetBuffer\u001b[0m\u001b[1;33m(\u001b[0m\u001b[0mrun_metadata_ptr\u001b[0m\u001b[1;33m)\u001b[0m\u001b[1;33m\u001b[0m\u001b[0m\n",
      "\u001b[1;32mD:\\ProgramData\\Anaconda3\\lib\\site-packages\\tensorflow_core\\python\\client\\session.py\u001b[0m in \u001b[0;36m_run\u001b[1;34m(self, handle, fetches, feed_dict, options, run_metadata)\u001b[0m\n\u001b[0;32m   1178\u001b[0m     \u001b[1;32mif\u001b[0m \u001b[0mfinal_fetches\u001b[0m \u001b[1;32mor\u001b[0m \u001b[0mfinal_targets\u001b[0m \u001b[1;32mor\u001b[0m \u001b[1;33m(\u001b[0m\u001b[0mhandle\u001b[0m \u001b[1;32mand\u001b[0m \u001b[0mfeed_dict_tensor\u001b[0m\u001b[1;33m)\u001b[0m\u001b[1;33m:\u001b[0m\u001b[1;33m\u001b[0m\u001b[0m\n\u001b[0;32m   1179\u001b[0m       results = self._do_run(handle, final_targets, final_fetches,\n\u001b[1;32m-> 1180\u001b[1;33m                              feed_dict_tensor, options, run_metadata)\n\u001b[0m\u001b[0;32m   1181\u001b[0m     \u001b[1;32melse\u001b[0m\u001b[1;33m:\u001b[0m\u001b[1;33m\u001b[0m\u001b[0m\n\u001b[0;32m   1182\u001b[0m       \u001b[0mresults\u001b[0m \u001b[1;33m=\u001b[0m \u001b[1;33m[\u001b[0m\u001b[1;33m]\u001b[0m\u001b[1;33m\u001b[0m\u001b[0m\n",
      "\u001b[1;32mD:\\ProgramData\\Anaconda3\\lib\\site-packages\\tensorflow_core\\python\\client\\session.py\u001b[0m in \u001b[0;36m_do_run\u001b[1;34m(self, handle, target_list, fetch_list, feed_dict, options, run_metadata)\u001b[0m\n\u001b[0;32m   1357\u001b[0m     \u001b[1;32mif\u001b[0m \u001b[0mhandle\u001b[0m \u001b[1;32mis\u001b[0m \u001b[1;32mNone\u001b[0m\u001b[1;33m:\u001b[0m\u001b[1;33m\u001b[0m\u001b[0m\n\u001b[0;32m   1358\u001b[0m       return self._do_call(_run_fn, feeds, fetches, targets, options,\n\u001b[1;32m-> 1359\u001b[1;33m                            run_metadata)\n\u001b[0m\u001b[0;32m   1360\u001b[0m     \u001b[1;32melse\u001b[0m\u001b[1;33m:\u001b[0m\u001b[1;33m\u001b[0m\u001b[0m\n\u001b[0;32m   1361\u001b[0m       \u001b[1;32mreturn\u001b[0m \u001b[0mself\u001b[0m\u001b[1;33m.\u001b[0m\u001b[0m_do_call\u001b[0m\u001b[1;33m(\u001b[0m\u001b[0m_prun_fn\u001b[0m\u001b[1;33m,\u001b[0m \u001b[0mhandle\u001b[0m\u001b[1;33m,\u001b[0m \u001b[0mfeeds\u001b[0m\u001b[1;33m,\u001b[0m \u001b[0mfetches\u001b[0m\u001b[1;33m)\u001b[0m\u001b[1;33m\u001b[0m\u001b[0m\n",
      "\u001b[1;32mD:\\ProgramData\\Anaconda3\\lib\\site-packages\\tensorflow_core\\python\\client\\session.py\u001b[0m in \u001b[0;36m_do_call\u001b[1;34m(self, fn, *args)\u001b[0m\n\u001b[0;32m   1363\u001b[0m   \u001b[1;32mdef\u001b[0m \u001b[0m_do_call\u001b[0m\u001b[1;33m(\u001b[0m\u001b[0mself\u001b[0m\u001b[1;33m,\u001b[0m \u001b[0mfn\u001b[0m\u001b[1;33m,\u001b[0m \u001b[1;33m*\u001b[0m\u001b[0margs\u001b[0m\u001b[1;33m)\u001b[0m\u001b[1;33m:\u001b[0m\u001b[1;33m\u001b[0m\u001b[0m\n\u001b[0;32m   1364\u001b[0m     \u001b[1;32mtry\u001b[0m\u001b[1;33m:\u001b[0m\u001b[1;33m\u001b[0m\u001b[0m\n\u001b[1;32m-> 1365\u001b[1;33m       \u001b[1;32mreturn\u001b[0m \u001b[0mfn\u001b[0m\u001b[1;33m(\u001b[0m\u001b[1;33m*\u001b[0m\u001b[0margs\u001b[0m\u001b[1;33m)\u001b[0m\u001b[1;33m\u001b[0m\u001b[0m\n\u001b[0m\u001b[0;32m   1366\u001b[0m     \u001b[1;32mexcept\u001b[0m \u001b[0merrors\u001b[0m\u001b[1;33m.\u001b[0m\u001b[0mOpError\u001b[0m \u001b[1;32mas\u001b[0m \u001b[0me\u001b[0m\u001b[1;33m:\u001b[0m\u001b[1;33m\u001b[0m\u001b[0m\n\u001b[0;32m   1367\u001b[0m       \u001b[0mmessage\u001b[0m \u001b[1;33m=\u001b[0m \u001b[0mcompat\u001b[0m\u001b[1;33m.\u001b[0m\u001b[0mas_text\u001b[0m\u001b[1;33m(\u001b[0m\u001b[0me\u001b[0m\u001b[1;33m.\u001b[0m\u001b[0mmessage\u001b[0m\u001b[1;33m)\u001b[0m\u001b[1;33m\u001b[0m\u001b[0m\n",
      "\u001b[1;32mD:\\ProgramData\\Anaconda3\\lib\\site-packages\\tensorflow_core\\python\\client\\session.py\u001b[0m in \u001b[0;36m_run_fn\u001b[1;34m(feed_dict, fetch_list, target_list, options, run_metadata)\u001b[0m\n\u001b[0;32m   1348\u001b[0m       \u001b[0mself\u001b[0m\u001b[1;33m.\u001b[0m\u001b[0m_extend_graph\u001b[0m\u001b[1;33m(\u001b[0m\u001b[1;33m)\u001b[0m\u001b[1;33m\u001b[0m\u001b[0m\n\u001b[0;32m   1349\u001b[0m       return self._call_tf_sessionrun(options, feed_dict, fetch_list,\n\u001b[1;32m-> 1350\u001b[1;33m                                       target_list, run_metadata)\n\u001b[0m\u001b[0;32m   1351\u001b[0m \u001b[1;33m\u001b[0m\u001b[0m\n\u001b[0;32m   1352\u001b[0m     \u001b[1;32mdef\u001b[0m \u001b[0m_prun_fn\u001b[0m\u001b[1;33m(\u001b[0m\u001b[0mhandle\u001b[0m\u001b[1;33m,\u001b[0m \u001b[0mfeed_dict\u001b[0m\u001b[1;33m,\u001b[0m \u001b[0mfetch_list\u001b[0m\u001b[1;33m)\u001b[0m\u001b[1;33m:\u001b[0m\u001b[1;33m\u001b[0m\u001b[0m\n",
      "\u001b[1;32mD:\\ProgramData\\Anaconda3\\lib\\site-packages\\tensorflow_core\\python\\client\\session.py\u001b[0m in \u001b[0;36m_call_tf_sessionrun\u001b[1;34m(self, options, feed_dict, fetch_list, target_list, run_metadata)\u001b[0m\n\u001b[0;32m   1441\u001b[0m     return tf_session.TF_SessionRun_wrapper(self._session, options, feed_dict,\n\u001b[0;32m   1442\u001b[0m                                             \u001b[0mfetch_list\u001b[0m\u001b[1;33m,\u001b[0m \u001b[0mtarget_list\u001b[0m\u001b[1;33m,\u001b[0m\u001b[1;33m\u001b[0m\u001b[0m\n\u001b[1;32m-> 1443\u001b[1;33m                                             run_metadata)\n\u001b[0m\u001b[0;32m   1444\u001b[0m \u001b[1;33m\u001b[0m\u001b[0m\n\u001b[0;32m   1445\u001b[0m   \u001b[1;32mdef\u001b[0m \u001b[0m_call_tf_sessionprun\u001b[0m\u001b[1;33m(\u001b[0m\u001b[0mself\u001b[0m\u001b[1;33m,\u001b[0m \u001b[0mhandle\u001b[0m\u001b[1;33m,\u001b[0m \u001b[0mfeed_dict\u001b[0m\u001b[1;33m,\u001b[0m \u001b[0mfetch_list\u001b[0m\u001b[1;33m)\u001b[0m\u001b[1;33m:\u001b[0m\u001b[1;33m\u001b[0m\u001b[0m\n",
      "\u001b[1;31mKeyboardInterrupt\u001b[0m: "
     ]
    }
   ],
   "source": [
    "#增加dropout\n",
    "\n",
    "#交叉熵对比\n",
    "\n",
    "\n",
    "keep_prob = tf.placeholder(tf.float32)\n",
    "#c创建一个简单神经网络\n",
    "v3_1 = tf.Variable(tf.truncated_normal([784,2000],stddev=0.1))\n",
    "b3_1 = tf.Variable(tf.zeros([2000])+0.1)\n",
    "l3_1 = tf.nn.tanh(tf.matmul(mnist_x,v3_1)+b3_1)\n",
    "l3_1_drop = tf.nn.dropout(l3_1,keep_prob=keep_prob)\n",
    "\n",
    "v3_2 = tf.Variable(tf.truncated_normal([2000,2000],stddev=0.1))\n",
    "b3_2 = tf.Variable(tf.zeros([2000])+0.1)\n",
    "l3_2 = tf.nn.tanh(tf.matmul(l3_1_drop,v3_2)+b3_2)\n",
    "l3_2_drop = tf.nn.dropout(l3_2,keep_prob=keep_prob)\n",
    "\n",
    "v3_3 = tf.Variable(tf.truncated_normal([2000,1000],stddev=0.1))\n",
    "b3_3 = tf.Variable(tf.zeros([1000])+0.1)\n",
    "l3_3 = tf.nn.tanh(tf.matmul(l3_2_drop,v3_3)+b3_3)\n",
    "l3_3_drop = tf.nn.dropout(l3_3,keep_prob=keep_prob)\n",
    "\n",
    "v3_4 = tf.Variable(tf.truncated_normal([1000,10],stddev=0.1))\n",
    "b3_4 = tf.Variable(tf.zeros([10])+0.1)\n",
    "mnist_prediction3 = tf.nn.softmax(tf.matmul(l3_3_drop,v3_4)+b3_4)\n",
    "\n",
    "#交叉熵\n",
    "loss3 = tf.reduce_mean(tf.nn.softmax_cross_entropy_with_logits_v2(labels=mnist_y,logits=mnist_prediction3))\n",
    "#使用梯度下降法\n",
    "mnist_train_step3 = tf.train.GradientDescentOptimizer(0.2).minimize(loss3)\n",
    "\n",
    "#初始化变量\n",
    "init3 = tf.global_variables_initializer()\n",
    "\n",
    "#所在位置比较\n",
    "mnist_correct_prediction3 = tf.equal(tf.argmax(mnist_y,1),tf.argmax(mnist_prediction3,1))\n",
    "#求准确率\n",
    "accuracy3 = tf.reduce_mean(tf.cast(mnist_correct_prediction3,tf.float32)) #tf.cast布尔值转换为浮点型\n",
    "\n",
    "with tf.Session() as sess:\n",
    "    sess.run(init3)\n",
    "    for epoch in range(21):\n",
    "        for batch in range(n_batch):\n",
    "            batch_xs, batch_ys = mnist.train.next_batch(batch_size) #获取下一个100\n",
    "            sess.run(mnist_train_step3,feed_dict={mnist_x:batch_xs,mnist_y:batch_ys,keep_prob:1.0})\n",
    "        \n",
    "        valid_acc3 = sess.run(accuracy3,feed_dict={mnist_x:mnist.validation.images,mnist_y:mnist.validation.labels,keep_prob:1.0})\n",
    "        train_acc3 = sess.run(accuracy3,feed_dict={mnist_x:mnist.train.images,mnist_y:mnist.train.labels,keep_prob:1.0})\n",
    "\n",
    "        print(\"Iter\",epoch,\",valid Accuracy:\",valid_acc3,\",train Accuracy：\",train_acc3)"
   ]
  },
  {
   "cell_type": "code",
   "execution_count": null,
   "metadata": {},
   "outputs": [],
   "source": []
  }
 ],
 "metadata": {
  "kernelspec": {
   "display_name": "Python 3",
   "language": "python",
   "name": "python3"
  },
  "language_info": {
   "codemirror_mode": {
    "name": "ipython",
    "version": 3
   },
   "file_extension": ".py",
   "mimetype": "text/x-python",
   "name": "python",
   "nbconvert_exporter": "python",
   "pygments_lexer": "ipython3",
   "version": "3.6.5"
  }
 },
 "nbformat": 4,
 "nbformat_minor": 2
}
